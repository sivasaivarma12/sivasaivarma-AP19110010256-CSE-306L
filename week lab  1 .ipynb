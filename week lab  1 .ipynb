{
 "cells": [
  {
   "cell_type": "code",
   "execution_count": 1,
   "id": "c16a2879",
   "metadata": {},
   "outputs": [
    {
     "name": "stdout",
     "output_type": "stream",
     "text": [
      "Enter a Charecter :- abababab\n",
      "string accepted\n"
     ]
    }
   ],
   "source": [
    "a = input('Enter a Charecter :- ')\n",
    "state = 0\n",
    "for i in a:\n",
    "    temp = 0\n",
    "    if state == 0 and temp == 0:\n",
    "        if i == 'a':\n",
    "            state = 1\n",
    "        elif i == 'b':\n",
    "            state = 3\n",
    "        else:\n",
    "            print('error')\n",
    "        temp = 1\n",
    "    elif state == 1 and temp == 0:\n",
    "        if i == 'a':\n",
    "            state = 0\n",
    "        elif i == 'b':\n",
    "            state = 2\n",
    "        else:\n",
    "            print('error')\n",
    "        temp = 1\n",
    "    elif state == 2 and temp == 0:\n",
    "        if i == 'a':\n",
    "            state = 3\n",
    "        elif i == 'b':\n",
    "            state = 1\n",
    "        else:\n",
    "            print('error')\n",
    "        temp = 1\n",
    "    elif state == 3 and temp == 0:\n",
    "        if i == 'a':\n",
    "            state = 2\n",
    "        elif i == 'b':\n",
    "            state = 0\n",
    "        else:\n",
    "            print('error')\n",
    "        temp = 1\n",
    "if state == 0:\n",
    "    print('string accepted')\n",
    "else:\n",
    "    print('string not accepted')"
   ]
  },
  {
   "cell_type": "code",
   "execution_count": 2,
   "id": "1582cac6",
   "metadata": {},
   "outputs": [
    {
     "name": "stdout",
     "output_type": "stream",
     "text": [
      "Enter a Charecter :- abababaaa\n",
      "string accepted\n"
     ]
    }
   ],
   "source": [
    "a = input('Enter a Charecter :- ')\n",
    "state = 0\n",
    "for i in a:\n",
    "    if state == 0:\n",
    "        if i == 'a':\n",
    "            state = 1\n",
    "        elif i == 'b':\n",
    "            state = 2\n",
    "        else:\n",
    "            print('error')\n",
    "        continue\n",
    "    elif state == 1:\n",
    "        if i == 'a':\n",
    "            state = 3\n",
    "        elif i == 'b':\n",
    "            state = 2\n",
    "        else:\n",
    "            print('error')\n",
    "        continue\n",
    "    elif state == 2:\n",
    "        if i == 'a':\n",
    "            state = 1\n",
    "        elif i == 'b':\n",
    "            state = 4\n",
    "        else:\n",
    "            print('error')\n",
    "        continue\n",
    "    elif state == 3:\n",
    "        if i == 'a':\n",
    "            state = 3\n",
    "        elif i == 'b':\n",
    "            state = 2\n",
    "        else:\n",
    "            print('error')\n",
    "        continue\n",
    "    elif state == 4:\n",
    "        if i == 'a':\n",
    "            state = 1\n",
    "        elif i == 'b':\n",
    "            state = 4\n",
    "        else:\n",
    "            print('error')\n",
    "        continue\n",
    "if state == 3 or state == 4:\n",
    "    print('string accepted')\n",
    "else:\n",
    "    print('string not accepted')"
   ]
  },
  {
   "cell_type": "code",
   "execution_count": null,
   "id": "cd1f207b",
   "metadata": {},
   "outputs": [],
   "source": []
  },
  {
   "cell_type": "code",
   "execution_count": null,
   "id": "d613ee6f",
   "metadata": {},
   "outputs": [],
   "source": []
  }
 ],
 "metadata": {
  "kernelspec": {
   "display_name": "Python 3",
   "language": "python",
   "name": "python3"
  },
  "language_info": {
   "codemirror_mode": {
    "name": "ipython",
    "version": 3
   },
   "file_extension": ".py",
   "mimetype": "text/x-python",
   "name": "python",
   "nbconvert_exporter": "python",
   "pygments_lexer": "ipython3",
   "version": "3.8.8"
  }
 },
 "nbformat": 4,
 "nbformat_minor": 5
}
